{
  "nbformat": 4,
  "nbformat_minor": 0,
  "metadata": {
    "colab": {
      "provenance": []
    },
    "kernelspec": {
      "name": "python3",
      "display_name": "Python 3"
    },
    "language_info": {
      "name": "python"
    }
  },
  "cells": [
    {
      "cell_type": "code",
      "execution_count": null,
      "metadata": {
        "id": "5rB89eTfjSwh"
      },
      "outputs": [],
      "source": [
        "import pandas as pd\n",
        "import numpy as np\n",
        "from sklearn.feature_extraction.text import CountVectorizer\n",
        "from sklearn.ensemble import RandomForestClassifier\n",
        "from sklearn.model_selection import train_test_split"
      ]
    },
    {
      "cell_type": "code",
      "source": [
        "df = pd.read_csv('banka.csv')\n",
        "df2= pd.read_csv('bankv2.csv')\n",
        "df3= pd.read_csv('bankv3.csv')"
      ],
      "metadata": {
        "id": "U0O9Jg4mjYv7"
      },
      "execution_count": null,
      "outputs": []
    },
    {
      "cell_type": "code",
      "source": [
        "df = pd.concat([df,df2,df3])"
      ],
      "metadata": {
        "id": "BtYDGqoAjfYY"
      },
      "execution_count": null,
      "outputs": []
    },
    {
      "cell_type": "code",
      "source": [
        "df=df[[\"sorgu\", \"label\"]]\n",
        "stopwords=['fakat','lakin','ancak','acaba', 'ama', 'aslında', 'az', 'bazı', 'belki', 'biri', 'birkaç', 'birşey', 'biz', 'bu', 'çok', 'çünkü', 'da', 'daha', 'de', 'defa', 'diye', 'eğer', 'en', 'gibi', 'hem', 'hep', 'hepsi', 'her', 'hiç', 'için', 'ile', 'ise', 'kez', 'ki', 'kim', 'mı', 'mu', 'mü', 'nasıl', 'ne', 'neden', 'nerde', 'nerede', 'nereye', 'niçin', 'niye', 'o', 'sanki', 'şey', 'siz', 'şu', 'tüm', 've', 'veya', 'ya', 'yani']\n",
        "\n",
        "mesaj=input(\"Yapmak istediğiniz işlemi Giriniz: \")\n",
        "\n",
        "mesajdf=pd.DataFrame({\"sorgu\":mesaj,\n",
        "                      \"label\":0},\n",
        "                     index=[42])\n",
        "\n",
        "for word in stopwords:\n",
        "  word=\" \" +word+ \" \"\n",
        "  df_all[\"sorgu\"] = df_all[\"sorgu\"].str.replace(word,\" \")\n",
        "\n",
        "df=pd.concat([df,mesajdf],ignore_index=True)\n",
        "\n",
        "cv=CountVectorizer(max_features=50)\n",
        "\n",
        "x=cv.fit_transform(df[\"sorgu\"]).toarray()\n",
        "y=df[\"label\"]\n",
        "\n",
        "tahmin=x[-1].copy()\n",
        "x=x[0:-1]\n",
        "y=y[0:-1]\n",
        "\n",
        "x_train, x_test, y_train, y_test = train_test_split(x,y,random_state=21,train_size=0.7)\n",
        "\n",
        "rf = RandomForestClassifier()\n",
        "model = rf.fit(x_train,y_train)\n",
        "skor=model.score(x_test,y_test)\n",
        "\n",
        "sonuc=model.predict([tahmin])\n",
        "print(\"Sonuç: \",sonuc,\"Skor: \",skor)"
      ],
      "metadata": {
        "colab": {
          "base_uri": "https://localhost:8080/"
        },
        "id": "jYf7zpPfkLhg",
        "outputId": "7156cd15-6b97-4169-f633-7aad0d2c31f4"
      },
      "execution_count": null,
      "outputs": [
        {
          "output_type": "stream",
          "name": "stdout",
          "text": [
            "Yapmak istediğiniz işlemi Giriniz: kredi kartımla arkadşaıma para havale etmek istiyorum\n",
            "Sonuç:  ['paragonderme'] Skor:  1.0\n"
          ]
        }
      ]
    },
    {
      "cell_type": "code",
      "source": [],
      "metadata": {
        "id": "ZlLB02Pfy3eV"
      },
      "execution_count": null,
      "outputs": []
    }
  ]
}